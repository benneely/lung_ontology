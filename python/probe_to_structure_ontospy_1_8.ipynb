{
 "cells": [
  {
   "cell_type": "markdown",
   "metadata": {},
   "source": [
    "### Path to Lung Ontology File"
   ]
  },
  {
   "cell_type": "code",
   "execution_count": 1,
   "metadata": {},
   "outputs": [],
   "source": [
    "LOCAL_ONTOLOGY_FILE = '../lung_ontology.owl'"
   ]
  },
  {
   "cell_type": "markdown",
   "metadata": {},
   "source": [
    "### Installed Imports"
   ]
  },
  {
   "cell_type": "code",
   "execution_count": 2,
   "metadata": {},
   "outputs": [],
   "source": [
    "import ontospy"
   ]
  },
  {
   "cell_type": "markdown",
   "metadata": {},
   "source": [
    "### Load Ontology"
   ]
  },
  {
   "cell_type": "code",
   "execution_count": 6,
   "metadata": {},
   "outputs": [],
   "source": [
    "onto = ontospy.Ontospy(uri_or_path=LOCAL_ONTOLOGY_FILE, rdf_format='xml')"
   ]
  },
  {
   "cell_type": "markdown",
   "metadata": {},
   "source": [
    "### Get Ontology Proteins with Synonyms (non-flattened)"
   ]
  },
  {
   "cell_type": "code",
   "execution_count": 10,
   "metadata": {},
   "outputs": [],
   "source": [
    "sparql_proteins_query = \"\"\"\n",
    "PREFIX rdfs: <http://www.w3.org/2000/01/rdf-schema#>\n",
    "PREFIX owl: <http://www.w3.org/2002/07/owl#>\n",
    "PREFIX : <http://www.semanticweb.org/am175/ontologies/2017/1/untitled-ontology-79#>\n",
    "SELECT ?p ?p_label WHERE {\n",
    "    ?p rdfs:subClassOf :Protein .\n",
    "    ?p rdfs:label ?p_label\n",
    "}\n",
    "\"\"\"\n",
    "\n",
    "onto_proteins = onto.query(sparql_proteins_query)"
   ]
  },
  {
   "cell_type": "code",
   "execution_count": 11,
   "metadata": {},
   "outputs": [],
   "source": [
    "probe_uri_dict = {}\n",
    "\n",
    "for op in onto_proteins:\n",
    "    probe_uri_dict[op[1].value] = op[0]"
   ]
  },
  {
   "cell_type": "code",
   "execution_count": 12,
   "metadata": {},
   "outputs": [
    {
     "name": "stdout",
     "output_type": "stream",
     "text": [
      "calcitonin\n",
      "alpha-actin-2\n",
      "CD34\n",
      "ATP-binding_cassette_sub-family_A_member_3\n",
      "uteroglobin\n",
      "tubulin_alpha-1A_chain\n",
      "lymphatic_vessel_endothelial_hyaluronic_acid_receptor_1\n",
      "endomucin\n",
      "Vimentin\n",
      "homeodomain-only_protein\n",
      "platelet_endothelial_cell_adhesion_molecule\n",
      "advanced_glycosylation_end_product-specific_receptor\n",
      "chondroitin_sulfate_proteoglycan_4\n",
      "histone_H3.3C\n",
      "homeobox_protein_Nkx-2.1\n",
      "transcription_factor_SOX-2\n",
      "transcription_factor_SOX-9\n",
      "ADP-ribosylation factor-like protein 13B\n",
      "pulmonary_surfactant-associated_protein_C\n"
     ]
    }
   ],
   "source": [
    "for k in probe_uri_dict.keys():\n",
    "    print(k)"
   ]
  },
  {
   "cell_type": "markdown",
   "metadata": {},
   "source": [
    "### Choose 1 of the Probes and Find Related Cells"
   ]
  },
  {
   "cell_type": "code",
   "execution_count": 13,
   "metadata": {},
   "outputs": [],
   "source": [
    "sparql_probe_cell_query = \"\"\"\n",
    "PREFIX rdfs: <http://www.w3.org/2000/01/rdf-schema#>\n",
    "PREFIX owl: <http://www.w3.org/2002/07/owl#>\n",
    "PREFIX : <http://www.semanticweb.org/am175/ontologies/2017/1/untitled-ontology-79#>\n",
    "SELECT ?c WHERE {\n",
    "    ?c rdfs:subClassOf* :cell . \n",
    "    ?c rdfs:subClassOf ?restriction .\n",
    "    ?restriction owl:onProperty :has_part ; owl:someValuesFrom ?p .\n",
    "    VALUES ?p { <%s> }\n",
    "}\n",
    "\"\"\" % probe_uri_dict['transcription_factor_SOX-9']\n",
    "\n",
    "probe_cells = onto.query(sparql_probe_cell_query)"
   ]
  },
  {
   "cell_type": "code",
   "execution_count": 15,
   "metadata": {},
   "outputs": [
    {
     "data": {
      "text/plain": [
       "[(rdflib.term.URIRef('http://www.semanticweb.org/am175/ontologies/2017/1/untitled-ontology-79#distal_acinar_tubule_epithelial_cell')),\n",
       " (rdflib.term.URIRef('http://www.semanticweb.org/am175/ontologies/2017/1/untitled-ontology-79#immature_type_II_pneumocyte')),\n",
       " (rdflib.term.URIRef('http://www.semanticweb.org/am175/ontologies/2017/1/untitled-ontology-79#unclassified_fibroblast'))]"
      ]
     },
     "execution_count": 15,
     "metadata": {},
     "output_type": "execute_result"
    }
   ],
   "source": [
    "probe_cells"
   ]
  },
  {
   "cell_type": "markdown",
   "metadata": {},
   "source": [
    "### Choose 1 of the Cells and Find Related Tissues"
   ]
  },
  {
   "cell_type": "code",
   "execution_count": 16,
   "metadata": {},
   "outputs": [],
   "source": [
    "sparql_cell_tissue_query = \"\"\"\n",
    "PREFIX rdfs: <http://www.w3.org/2000/01/rdf-schema#>\n",
    "PREFIX owl: <http://www.w3.org/2002/07/owl#>\n",
    "PREFIX : <http://www.semanticweb.org/am175/ontologies/2017/1/untitled-ontology-79#>\n",
    "SELECT ?t WHERE {\n",
    "    ?t rdfs:subClassOf* :tissue .\n",
    "    ?c rdfs:subClassOf ?restriction .\n",
    "    ?restriction owl:onProperty :part_of ; owl:someValuesFrom ?t .\n",
    "    VALUES ?c { <%s> }\n",
    "}\n",
    "\"\"\" % probe_cells[1][0]\n",
    "\n",
    "cell_tissues = onto.query(sparql_cell_tissue_query)"
   ]
  },
  {
   "cell_type": "code",
   "execution_count": 17,
   "metadata": {},
   "outputs": [
    {
     "data": {
      "text/plain": [
       "[(rdflib.term.URIRef('http://www.semanticweb.org/am175/ontologies/2017/1/untitled-ontology-79#distal_acinar_tubule_epithelium'))]"
      ]
     },
     "execution_count": 17,
     "metadata": {},
     "output_type": "execute_result"
    }
   ],
   "source": [
    "cell_tissues"
   ]
  },
  {
   "cell_type": "markdown",
   "metadata": {},
   "source": [
    "### Choose 1 of the Tissues and Find Related Structures"
   ]
  },
  {
   "cell_type": "code",
   "execution_count": 18,
   "metadata": {},
   "outputs": [],
   "source": [
    "sparql_tissue_structure_query = \"\"\"\n",
    "PREFIX rdfs: <http://www.w3.org/2000/01/rdf-schema#>\n",
    "PREFIX owl: <http://www.w3.org/2002/07/owl#>\n",
    "PREFIX : <http://www.semanticweb.org/am175/ontologies/2017/1/untitled-ontology-79#>\n",
    "SELECT ?s ?label WHERE {\n",
    "    ?s rdfs:subClassOf* :complex_anatomical_structure .\n",
    "    ?s :lungmap_preferred_label ?label . \n",
    "    ?t rdfs:subClassOf ?restriction .\n",
    "    ?restriction owl:onProperty :part_of ; owl:someValuesFrom ?s .\n",
    "    VALUES ?t { <%s> }\n",
    "}\n",
    "\"\"\" % cell_tissues[0][0]\n",
    "\n",
    "tissue_structures = onto.query(sparql_tissue_structure_query)"
   ]
  },
  {
   "cell_type": "code",
   "execution_count": 19,
   "metadata": {},
   "outputs": [
    {
     "data": {
      "text/plain": [
       "[(rdflib.term.URIRef('http://www.semanticweb.org/am175/ontologies/2017/1/untitled-ontology-79#distal_acinar_tubule_bud'),\n",
       "  rdflib.term.Literal('distal acinar tubule bud'))]"
      ]
     },
     "execution_count": 19,
     "metadata": {},
     "output_type": "execute_result"
    }
   ],
   "source": [
    "tissue_structures"
   ]
  },
  {
   "cell_type": "code",
   "execution_count": 20,
   "metadata": {},
   "outputs": [],
   "source": [
    "s = tissue_structures[0][1]"
   ]
  },
  {
   "cell_type": "code",
   "execution_count": 21,
   "metadata": {},
   "outputs": [
    {
     "data": {
      "text/plain": [
       "'distal acinar tubule bud'"
      ]
     },
     "execution_count": 21,
     "metadata": {},
     "output_type": "execute_result"
    }
   ],
   "source": [
    "s.value"
   ]
  },
  {
   "cell_type": "markdown",
   "metadata": {},
   "source": [
    "### Success with a single protein! Now putting it all together for all of them.\n",
    "\n",
    "We successfully mapped the SOX-9 protein to the distal acinar tubule bud structure. Now we'll construct our functions using the queries we've built and chain them together to build a complete dictionary with probe keys and lists of structures"
   ]
  },
  {
   "cell_type": "code",
   "execution_count": 22,
   "metadata": {},
   "outputs": [],
   "source": [
    "def get_onto_proteins(): \n",
    "    sparql_proteins_query = \"\"\"\n",
    "PREFIX rdfs: <http://www.w3.org/2000/01/rdf-schema#>\n",
    "PREFIX owl: <http://www.w3.org/2002/07/owl#>\n",
    "PREFIX : <http://www.semanticweb.org/am175/ontologies/2017/1/untitled-ontology-79#>\n",
    "SELECT ?p ?p_label WHERE {\n",
    "    ?p rdfs:subClassOf :Protein .\n",
    "    ?p rdfs:label ?p_label\n",
    "}\n",
    "\"\"\"\n",
    "\n",
    "    results = onto.query(sparql_proteins_query)\n",
    "    \n",
    "    return results\n",
    "\n",
    "def get_onto_cells_by_protein(protein_uri):\n",
    "    sparql_protein_cell_query = \"\"\"\n",
    "PREFIX rdfs: <http://www.w3.org/2000/01/rdf-schema#>\n",
    "PREFIX owl: <http://www.w3.org/2002/07/owl#>\n",
    "PREFIX : <http://www.semanticweb.org/am175/ontologies/2017/1/untitled-ontology-79#>\n",
    "SELECT ?c WHERE {\n",
    "    ?c rdfs:subClassOf* :cell . \n",
    "    ?c rdfs:subClassOf ?restriction .\n",
    "    ?restriction owl:onProperty :has_part ; owl:someValuesFrom ?p .\n",
    "    VALUES ?p { <%s> }\n",
    "}\n",
    "\"\"\" % protein_uri\n",
    "\n",
    "    results = onto.query(sparql_protein_cell_query)\n",
    "    \n",
    "    return results\n",
    "\n",
    "def get_onto_tissues_by_cell(cell_uri):\n",
    "    sparql_cell_tissue_query = \"\"\"\n",
    "PREFIX rdfs: <http://www.w3.org/2000/01/rdf-schema#>\n",
    "PREFIX owl: <http://www.w3.org/2002/07/owl#>\n",
    "PREFIX : <http://www.semanticweb.org/am175/ontologies/2017/1/untitled-ontology-79#>\n",
    "SELECT ?t WHERE {\n",
    "    ?t rdfs:subClassOf* :tissue .\n",
    "    ?c rdfs:subClassOf ?restriction .\n",
    "    ?restriction owl:onProperty :part_of ; owl:someValuesFrom ?t .\n",
    "    VALUES ?c { <%s> }\n",
    "}\n",
    "\"\"\" % cell_uri\n",
    "\n",
    "    results = onto.query(sparql_cell_tissue_query)\n",
    "    \n",
    "    return results\n",
    "\n",
    "def get_onto_structures_by_related_uri(uri):\n",
    "    sparql_tissue_structure_query = \"\"\"\n",
    "PREFIX rdfs: <http://www.w3.org/2000/01/rdf-schema#>\n",
    "PREFIX owl: <http://www.w3.org/2002/07/owl#>\n",
    "PREFIX : <http://www.semanticweb.org/am175/ontologies/2017/1/untitled-ontology-79#>\n",
    "SELECT ?s ?label WHERE {\n",
    "    ?s rdfs:subClassOf* :complex_anatomical_structure .\n",
    "    ?s :lungmap_preferred_label ?label . \n",
    "    ?t rdfs:subClassOf ?restriction .\n",
    "    ?restriction owl:onProperty :part_of ; owl:someValuesFrom ?s .\n",
    "    VALUES ?t { <%s> }\n",
    "}\n",
    "\"\"\" % uri\n",
    "\n",
    "    results = onto.query(sparql_tissue_structure_query)\n",
    "    \n",
    "    return results\n",
    "\n",
    "def get_onto_sub_classes(uri):\n",
    "    sparql_subclass_query = \"\"\"\n",
    "PREFIX rdfs: <http://www.w3.org/2000/01/rdf-schema#>\n",
    "PREFIX owl: <http://www.w3.org/2002/07/owl#>\n",
    "PREFIX : <http://www.semanticweb.org/am175/ontologies/2017/1/untitled-ontology-79#>\n",
    "SELECT ?sub WHERE {\n",
    "    ?sub rdfs:subClassOf ?uri . \n",
    "    VALUES ?uri { <%s> }\n",
    "}\n",
    "\"\"\" % uri\n",
    "\n",
    "    results = onto.query(sparql_subclass_query)\n",
    "    \n",
    "    return results"
   ]
  },
  {
   "cell_type": "code",
   "execution_count": 23,
   "metadata": {},
   "outputs": [],
   "source": [
    "onto_proteins = get_onto_proteins()\n",
    "\n",
    "probe_uri_dict = {}\n",
    "\n",
    "for op in onto_proteins:\n",
    "    probe_uri_dict[op[1].value] = op[0]"
   ]
  },
  {
   "cell_type": "code",
   "execution_count": 24,
   "metadata": {},
   "outputs": [],
   "source": [
    "probe_structure_dict = {}"
   ]
  },
  {
   "cell_type": "code",
   "execution_count": 25,
   "metadata": {
    "scrolled": false
   },
   "outputs": [
    {
     "name": "stdout",
     "output_type": "stream",
     "text": [
      "calcitonin\n",
      "\t lung_neuroendocrine_cell 1\n",
      "\t Kultschitzky_cell_of_bronchiole 1\n",
      "alpha-actin-2\n",
      "\t myofibroblast 1\n",
      "\t smooth_muscle_cell 1\n",
      "\t bronchiolar-associated_smooth_muscle_cell 1\n",
      "\t\t epithelium_of_bronchiole 1\n",
      "\t\t\t bronchiole bronchiole 2\n",
      "(rdflib.term.URIRef('http://www.semanticweb.org/am175/ontologies/2017/1/untitled-ontology-79#bronchiole'), rdflib.term.Literal('bronchiole'))\n",
      "\t\t terminal_bronchiole_epithelium 1\n",
      "\t\t epithelium_of_respiratory_bronchiole 1\n",
      "\t vascular_associated_smooth_muscle_cell 1\n",
      "\t\t\t respiratory_system_blood_vessel respiratory system blood vessel 2\n",
      "\t\t arterial_smooth_muscle 1\n",
      "CD34\n",
      "\t endothelial_cell 1\n",
      "\t endothelial_cell_of_vascular_tree 1\n",
      "\t\t vascular_tree_endothelium 1\n",
      "ATP-binding_cassette_sub-family_A_member_3\n",
      "\t immature_type_II_pneumocyte 1\n",
      "\t\t\t neuroepithelial_body neuroepithelial body 2\n",
      "\t\t distal_acinar_tubule_epithelium 1\n",
      "\t\t\t distal_acinar_tubule_bud distal acinar tubule bud 2\n",
      "(rdflib.term.URIRef('http://www.semanticweb.org/am175/ontologies/2017/1/untitled-ontology-79#distal_acinar_tubule_bud'), rdflib.term.Literal('distal acinar tubule bud'))\n",
      "uteroglobin\n",
      "\t immature_club_cell 1\n",
      "\t\t epithelium_of_bronchiole 1\n",
      "\t\t\t bronchiole bronchiole 2\n",
      "(rdflib.term.URIRef('http://www.semanticweb.org/am175/ontologies/2017/1/untitled-ontology-79#bronchiole'), rdflib.term.Literal('bronchiole'))\n",
      "\t\t terminal_bronchiole_epithelium 1\n",
      "\t\t epithelium_of_respiratory_bronchiole 1\n",
      "tubulin_alpha-1A_chain\n",
      "lymphatic_vessel_endothelial_hyaluronic_acid_receptor_1\n",
      "\t lymphatic_endothelial_cell 1\n",
      "\t\t pulmonary_lymphatic_endothelium 1\n",
      "\t\t\t pulmonary_lymphatic_vessel pulmonary lymphatic vessel 2\n",
      "(rdflib.term.URIRef('http://www.semanticweb.org/am175/ontologies/2017/1/untitled-ontology-79#pulmonary_lymphatic_vessel'), rdflib.term.Literal('pulmonary lymphatic vessel'))\n",
      "\t pulmonary_lymphatic_endothelial_cell 1\n",
      "\t\t pulmonary_lymphatic_endothelium 1\n",
      "\t\t\t pulmonary_lymphatic_vessel pulmonary lymphatic vessel 2\n",
      "(rdflib.term.URIRef('http://www.semanticweb.org/am175/ontologies/2017/1/untitled-ontology-79#pulmonary_lymphatic_vessel'), rdflib.term.Literal('pulmonary lymphatic vessel'))\n",
      "endomucin\n",
      "\t endothelial_cell 1\n",
      "\t endothelial_cell_of_vascular_tree 1\n",
      "\t\t vascular_tree_endothelium 1\n",
      "Vimentin\n",
      "\t fibroblast 1\n",
      "\t\t interstitial_tissue 1\n",
      "\t myofibroblast 1\n",
      "\t unclassified_fibroblast 1\n",
      "homeodomain-only_protein\n",
      "\t intermediate_pneumocyte 1\n",
      "\t\t proximal_acinar_tubule_epithelium 1\n",
      "\t\t\t proximal_acinar_tubule proximal acinar tubule 2\n",
      "(rdflib.term.URIRef('http://www.semanticweb.org/am175/ontologies/2017/1/untitled-ontology-79#proximal_acinar_tubule'), rdflib.term.Literal('proximal acinar tubule'))\n",
      "\t\t periarterial_connective_tissue 1\n",
      "\t\t\t bronchial_artery bronchial artery 2\n",
      "(rdflib.term.URIRef('http://www.semanticweb.org/am175/ontologies/2017/1/untitled-ontology-79#bronchial_artery'), rdflib.term.Literal('bronchial artery'))\n",
      "\t\t epithelium_of_respiratory_bronchiole 1\n",
      "\t proximal_acinar_tubule_epithelial_cell 1\n",
      "\t\t proximal_acinar_tubule_epithelium 1\n",
      "\t\t\t proximal_acinar_tubule proximal acinar tubule 2\n",
      "(rdflib.term.URIRef('http://www.semanticweb.org/am175/ontologies/2017/1/untitled-ontology-79#proximal_acinar_tubule'), rdflib.term.Literal('proximal acinar tubule'))\n",
      "platelet_endothelial_cell_adhesion_molecule\n",
      "\t endothelial_cell 1\n",
      "\t endothelial_cell_of_vascular_tree 1\n",
      "\t\t vascular_tree_endothelium 1\n",
      "advanced_glycosylation_end_product-specific_receptor\n",
      "\t proximal_acinar_tubule_epithelial_cell 1\n",
      "\t\t proximal_acinar_tubule_epithelium 1\n",
      "\t\t\t proximal_acinar_tubule proximal acinar tubule 2\n",
      "(rdflib.term.URIRef('http://www.semanticweb.org/am175/ontologies/2017/1/untitled-ontology-79#proximal_acinar_tubule'), rdflib.term.Literal('proximal acinar tubule'))\n",
      "chondroitin_sulfate_proteoglycan_4\n",
      "\t pericyte 1\n",
      "\t\t subendothelial_connective_tissue 1\n",
      "histone_H3.3C\n",
      "\t bronchiole_proliferative_epithelial_cell 1\n",
      "\t\t epithelium_of_bronchiole 1\n",
      "\t\t\t bronchiole bronchiole 2\n",
      "(rdflib.term.URIRef('http://www.semanticweb.org/am175/ontologies/2017/1/untitled-ontology-79#bronchiole'), rdflib.term.Literal('bronchiole'))\n",
      "\t\t terminal_bronchiole_epithelium 1\n",
      "\t\t epithelium_of_respiratory_bronchiole 1\n",
      "\t acinar_tubule_proliferative_epithelial_cell 1\n",
      "\t\t distal_acinar_tubule_epithelium 1\n",
      "\t\t\t distal_acinar_tubule_bud distal acinar tubule bud 2\n",
      "(rdflib.term.URIRef('http://www.semanticweb.org/am175/ontologies/2017/1/untitled-ontology-79#distal_acinar_tubule_bud'), rdflib.term.Literal('distal acinar tubule bud'))\n",
      "homeobox_protein_Nkx-2.1\n",
      "\t epithelial_cell_of_the_lung 1\n",
      "\t\t lung_epithelium 1\n",
      "\t\t acinar_tubule_epithelium 1\n",
      "\t\t epithelium_of_bronchiole 1\n",
      "\t\t\t bronchiole bronchiole 2\n",
      "(rdflib.term.URIRef('http://www.semanticweb.org/am175/ontologies/2017/1/untitled-ontology-79#bronchiole'), rdflib.term.Literal('bronchiole'))\n",
      "\t acinar_epithelial_cell 1\n",
      "\t\t acinar_tubule_epithelium 1\n",
      "\t\t distal_acinar_tubule_epithelium 1\n",
      "\t\t\t distal_acinar_tubule_bud distal acinar tubule bud 2\n",
      "(rdflib.term.URIRef('http://www.semanticweb.org/am175/ontologies/2017/1/untitled-ontology-79#distal_acinar_tubule_bud'), rdflib.term.Literal('distal acinar tubule bud'))\n",
      "\t\t proximal_acinar_tubule_epithelium 1\n",
      "\t\t\t proximal_acinar_tubule proximal acinar tubule 2\n",
      "(rdflib.term.URIRef('http://www.semanticweb.org/am175/ontologies/2017/1/untitled-ontology-79#proximal_acinar_tubule'), rdflib.term.Literal('proximal acinar tubule'))\n",
      "\t bronchiolar_epithelial_cell 1\n",
      "\t\t epithelium_of_respiratory_bronchiole 1\n",
      "\t immature_type_I_pneumocyte 1\n",
      "\t\t distal_acinar_tubule_epithelium 1\n",
      "\t\t\t distal_acinar_tubule_bud distal acinar tubule bud 2\n",
      "(rdflib.term.URIRef('http://www.semanticweb.org/am175/ontologies/2017/1/untitled-ontology-79#distal_acinar_tubule_bud'), rdflib.term.Literal('distal acinar tubule bud'))\n",
      "\t immature_type_II_pneumocyte 1\n",
      "\t\t\t neuroepithelial_body neuroepithelial body 2\n",
      "\t\t distal_acinar_tubule_epithelium 1\n",
      "\t\t\t distal_acinar_tubule_bud distal acinar tubule bud 2\n",
      "(rdflib.term.URIRef('http://www.semanticweb.org/am175/ontologies/2017/1/untitled-ontology-79#distal_acinar_tubule_bud'), rdflib.term.Literal('distal acinar tubule bud'))\n",
      "\t intermediate_pneumocyte 1\n",
      "\t\t proximal_acinar_tubule_epithelium 1\n",
      "\t\t\t proximal_acinar_tubule proximal acinar tubule 2\n",
      "(rdflib.term.URIRef('http://www.semanticweb.org/am175/ontologies/2017/1/untitled-ontology-79#proximal_acinar_tubule'), rdflib.term.Literal('proximal acinar tubule'))\n",
      "\t\t periarterial_connective_tissue 1\n",
      "\t\t\t bronchial_artery bronchial artery 2\n",
      "(rdflib.term.URIRef('http://www.semanticweb.org/am175/ontologies/2017/1/untitled-ontology-79#bronchial_artery'), rdflib.term.Literal('bronchial artery'))\n",
      "\t\t epithelium_of_respiratory_bronchiole 1\n",
      "transcription_factor_SOX-2\n",
      "\t bronchiolar_epithelial_cell 1\n",
      "\t\t epithelium_of_respiratory_bronchiole 1\n",
      "\t lung_neuroendocrine_cell 1\n",
      "\t immature_club_cell 1\n",
      "\t\t epithelium_of_bronchiole 1\n",
      "\t\t\t bronchiole bronchiole 2\n",
      "(rdflib.term.URIRef('http://www.semanticweb.org/am175/ontologies/2017/1/untitled-ontology-79#bronchiole'), rdflib.term.Literal('bronchiole'))\n",
      "\t\t terminal_bronchiole_epithelium 1\n",
      "\t\t epithelium_of_respiratory_bronchiole 1\n",
      "\t interstitial_cell 1\n",
      "\t\t bronchiolar_connective_tissue 1\n",
      "\t\t\t bronchiole bronchiole 2\n",
      "(rdflib.term.URIRef('http://www.semanticweb.org/am175/ontologies/2017/1/untitled-ontology-79#bronchiole'), rdflib.term.Literal('bronchiole'))\n",
      "\t unclassified_epithelial_cell 1\n",
      "\t bronchiole_proliferative_epithelial_cell 1\n",
      "\t\t epithelium_of_bronchiole 1\n",
      "\t\t\t bronchiole bronchiole 2\n",
      "(rdflib.term.URIRef('http://www.semanticweb.org/am175/ontologies/2017/1/untitled-ontology-79#bronchiole'), rdflib.term.Literal('bronchiole'))\n",
      "\t\t terminal_bronchiole_epithelium 1\n",
      "\t\t epithelium_of_respiratory_bronchiole 1\n",
      "\t ciliated_cell_precursor 1\n",
      "transcription_factor_SOX-9\n",
      "\t distal_acinar_tubule_epithelial_cell 1\n",
      "\t\t distal_acinar_tubule_epithelium 1\n",
      "\t\t\t distal_acinar_tubule_bud distal acinar tubule bud 2\n",
      "(rdflib.term.URIRef('http://www.semanticweb.org/am175/ontologies/2017/1/untitled-ontology-79#distal_acinar_tubule_bud'), rdflib.term.Literal('distal acinar tubule bud'))\n",
      "\t immature_type_II_pneumocyte 1\n",
      "\t\t\t neuroepithelial_body neuroepithelial body 2\n",
      "\t\t distal_acinar_tubule_epithelium 1\n",
      "\t\t\t distal_acinar_tubule_bud distal acinar tubule bud 2\n",
      "(rdflib.term.URIRef('http://www.semanticweb.org/am175/ontologies/2017/1/untitled-ontology-79#distal_acinar_tubule_bud'), rdflib.term.Literal('distal acinar tubule bud'))\n",
      "\t unclassified_fibroblast 1\n",
      "\t acinar_tubule_proliferative_epithelial_cell 1\n"
     ]
    },
    {
     "name": "stdout",
     "output_type": "stream",
     "text": [
      "\t\t distal_acinar_tubule_epithelium 1\n",
      "\t\t\t distal_acinar_tubule_bud distal acinar tubule bud 2\n",
      "(rdflib.term.URIRef('http://www.semanticweb.org/am175/ontologies/2017/1/untitled-ontology-79#distal_acinar_tubule_bud'), rdflib.term.Literal('distal acinar tubule bud'))\n",
      "ADP-ribosylation factor-like protein 13B\n",
      "\t bronchiolar-associated_smooth_muscle_cell 1\n",
      "\t\t epithelium_of_bronchiole 1\n",
      "\t\t\t bronchiole bronchiole 2\n",
      "(rdflib.term.URIRef('http://www.semanticweb.org/am175/ontologies/2017/1/untitled-ontology-79#bronchiole'), rdflib.term.Literal('bronchiole'))\n",
      "\t\t terminal_bronchiole_epithelium 1\n",
      "\t\t epithelium_of_respiratory_bronchiole 1\n",
      "\t epithelial_cell_of_the_lung 1\n",
      "\t\t lung_epithelium 1\n",
      "\t\t acinar_tubule_epithelium 1\n",
      "\t\t epithelium_of_bronchiole 1\n",
      "\t\t\t bronchiole bronchiole 2\n",
      "(rdflib.term.URIRef('http://www.semanticweb.org/am175/ontologies/2017/1/untitled-ontology-79#bronchiole'), rdflib.term.Literal('bronchiole'))\n",
      "\t acinar_epithelial_cell 1\n",
      "\t\t acinar_tubule_epithelium 1\n",
      "\t\t distal_acinar_tubule_epithelium 1\n",
      "\t\t\t distal_acinar_tubule_bud distal acinar tubule bud 2\n",
      "(rdflib.term.URIRef('http://www.semanticweb.org/am175/ontologies/2017/1/untitled-ontology-79#distal_acinar_tubule_bud'), rdflib.term.Literal('distal acinar tubule bud'))\n",
      "\t\t proximal_acinar_tubule_epithelium 1\n",
      "\t\t\t proximal_acinar_tubule proximal acinar tubule 2\n",
      "(rdflib.term.URIRef('http://www.semanticweb.org/am175/ontologies/2017/1/untitled-ontology-79#proximal_acinar_tubule'), rdflib.term.Literal('proximal acinar tubule'))\n",
      "\t bronchiolar_epithelial_cell 1\n",
      "\t\t epithelium_of_respiratory_bronchiole 1\n",
      "\t immature_type_I_pneumocyte 1\n",
      "\t\t distal_acinar_tubule_epithelium 1\n",
      "\t\t\t distal_acinar_tubule_bud distal acinar tubule bud 2\n",
      "(rdflib.term.URIRef('http://www.semanticweb.org/am175/ontologies/2017/1/untitled-ontology-79#distal_acinar_tubule_bud'), rdflib.term.Literal('distal acinar tubule bud'))\n",
      "\t immature_type_II_pneumocyte 1\n",
      "\t\t\t neuroepithelial_body neuroepithelial body 2\n",
      "\t\t distal_acinar_tubule_epithelium 1\n",
      "\t\t\t distal_acinar_tubule_bud distal acinar tubule bud 2\n",
      "(rdflib.term.URIRef('http://www.semanticweb.org/am175/ontologies/2017/1/untitled-ontology-79#distal_acinar_tubule_bud'), rdflib.term.Literal('distal acinar tubule bud'))\n",
      "\t intermediate_pneumocyte 1\n",
      "\t\t proximal_acinar_tubule_epithelium 1\n",
      "\t\t\t proximal_acinar_tubule proximal acinar tubule 2\n",
      "(rdflib.term.URIRef('http://www.semanticweb.org/am175/ontologies/2017/1/untitled-ontology-79#proximal_acinar_tubule'), rdflib.term.Literal('proximal acinar tubule'))\n",
      "\t\t periarterial_connective_tissue 1\n",
      "\t\t\t bronchial_artery bronchial artery 2\n",
      "(rdflib.term.URIRef('http://www.semanticweb.org/am175/ontologies/2017/1/untitled-ontology-79#bronchial_artery'), rdflib.term.Literal('bronchial artery'))\n",
      "\t\t epithelium_of_respiratory_bronchiole 1\n",
      "pulmonary_surfactant-associated_protein_C\n",
      "\t immature_type_II_pneumocyte 1\n",
      "\t\t\t neuroepithelial_body neuroepithelial body 2\n",
      "\t\t distal_acinar_tubule_epithelium 1\n",
      "\t\t\t distal_acinar_tubule_bud distal acinar tubule bud 2\n",
      "(rdflib.term.URIRef('http://www.semanticweb.org/am175/ontologies/2017/1/untitled-ontology-79#distal_acinar_tubule_bud'), rdflib.term.Literal('distal acinar tubule bud'))\n",
      "\t intermediate_pneumocyte 1\n",
      "\t\t proximal_acinar_tubule_epithelium 1\n",
      "\t\t\t proximal_acinar_tubule proximal acinar tubule 2\n",
      "(rdflib.term.URIRef('http://www.semanticweb.org/am175/ontologies/2017/1/untitled-ontology-79#proximal_acinar_tubule'), rdflib.term.Literal('proximal acinar tubule'))\n",
      "\t\t periarterial_connective_tissue 1\n",
      "\t\t\t bronchial_artery bronchial artery 2\n",
      "(rdflib.term.URIRef('http://www.semanticweb.org/am175/ontologies/2017/1/untitled-ontology-79#bronchial_artery'), rdflib.term.Literal('bronchial artery'))\n",
      "\t\t epithelium_of_respiratory_bronchiole 1\n"
     ]
    }
   ],
   "source": [
    "for label, protein_uri in probe_uri_dict.items():\n",
    "    \n",
    "    print(label)\n",
    "    \n",
    "    cells = get_onto_cells_by_protein(protein_uri)\n",
    "    \n",
    "    sub_cells = []\n",
    "    \n",
    "    for cell in cells:\n",
    "        sub_cells.extend(get_onto_sub_classes(cell[0]))\n",
    "        \n",
    "    cells.extend(sub_cells)\n",
    "    \n",
    "    for cell in cells:\n",
    "        print('\\t', cell[0].split('#')[1], len(cell))\n",
    "        \n",
    "        # first check if the cell is directly related to a structure\n",
    "        structures = get_onto_structures_by_related_uri(cell[0])\n",
    "        \n",
    "        if len(structures) > 0:\n",
    "            for structure in structures:\n",
    "                print('\\t\\t\\t', structure[0].split('#')[1], structure[1], len(structure))\n",
    "                \n",
    "                if label not in probe_structure_dict.keys():\n",
    "                    probe_structure_dict[label] = set()\n",
    "                \n",
    "                probe_structure_dict[label].add(structure[1].value)            \n",
    "        \n",
    "        tissues = get_onto_tissues_by_cell(cell[0])\n",
    "        \n",
    "        sub_tissues = []\n",
    "        \n",
    "        for tissue in tissues:\n",
    "            sub_tissues.extend(get_onto_sub_classes(tissue[0]))\n",
    "        \n",
    "        tissues.extend(sub_tissues)\n",
    "        \n",
    "        for tissue in tissues:\n",
    "            print('\\t\\t', tissue[0].split('#')[1], len(tissue))\n",
    "            \n",
    "            structures = get_onto_structures_by_related_uri(tissue[0])\n",
    "            \n",
    "            for structure in structures:\n",
    "                print('\\t\\t\\t', structure[0].split('#')[1], structure[1], len(structure))\n",
    "                \n",
    "                if len(structure) > 1:\n",
    "                    print(structure)\n",
    "                \n",
    "                if label not in probe_structure_dict.keys():\n",
    "                    probe_structure_dict[label] = set()\n",
    "                \n",
    "                probe_structure_dict[label].add(structure[1].value)"
   ]
  },
  {
   "cell_type": "code",
   "execution_count": 26,
   "metadata": {},
   "outputs": [
    {
     "name": "stdout",
     "output_type": "stream",
     "text": [
      "ADP-ribosylation factor-like protein 13B\n",
      "\tbronchial artery\n",
      "\tbronchiole\n",
      "\tdistal acinar tubule bud\n",
      "\tneuroepithelial body\n",
      "\tproximal acinar tubule\n",
      "ATP-binding_cassette_sub-family_A_member_3\n",
      "\tdistal acinar tubule bud\n",
      "\tneuroepithelial body\n",
      "advanced_glycosylation_end_product-specific_receptor\n",
      "\tproximal acinar tubule\n",
      "alpha-actin-2\n",
      "\tbronchiole\n",
      "\trespiratory system blood vessel\n",
      "histone_H3.3C\n",
      "\tbronchiole\n",
      "\tdistal acinar tubule bud\n",
      "homeobox_protein_Nkx-2.1\n",
      "\tbronchial artery\n",
      "\tbronchiole\n",
      "\tdistal acinar tubule bud\n",
      "\tneuroepithelial body\n",
      "\tproximal acinar tubule\n",
      "homeodomain-only_protein\n",
      "\tbronchial artery\n",
      "\tproximal acinar tubule\n",
      "lymphatic_vessel_endothelial_hyaluronic_acid_receptor_1\n",
      "\tpulmonary lymphatic vessel\n",
      "pulmonary_surfactant-associated_protein_C\n",
      "\tbronchial artery\n",
      "\tdistal acinar tubule bud\n",
      "\tneuroepithelial body\n",
      "\tproximal acinar tubule\n",
      "transcription_factor_SOX-2\n",
      "\tbronchiole\n",
      "transcription_factor_SOX-9\n",
      "\tdistal acinar tubule bud\n",
      "\tneuroepithelial body\n",
      "uteroglobin\n",
      "\tbronchiole\n"
     ]
    }
   ],
   "source": [
    "for k in sorted(probe_structure_dict.keys()):\n",
    "    print(k)\n",
    "    \n",
    "    for structure in sorted(probe_structure_dict[k]):\n",
    "        print(\"\\t%s\" % (structure,))"
   ]
  }
 ],
 "metadata": {
  "kernelspec": {
   "display_name": "Python 3",
   "language": "python",
   "name": "python3"
  },
  "language_info": {
   "codemirror_mode": {
    "name": "ipython",
    "version": 3
   },
   "file_extension": ".py",
   "mimetype": "text/x-python",
   "name": "python",
   "nbconvert_exporter": "python",
   "pygments_lexer": "ipython3",
   "version": "3.5.2"
  }
 },
 "nbformat": 4,
 "nbformat_minor": 2
}
